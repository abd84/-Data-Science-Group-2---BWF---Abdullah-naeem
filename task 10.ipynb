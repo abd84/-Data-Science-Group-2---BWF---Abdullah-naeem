{
 "cells": [
  {
   "cell_type": "markdown",
   "id": "899a84e7",
   "metadata": {},
   "source": [
    "# exercise "
   ]
  },
  {
   "cell_type": "code",
   "execution_count": 1,
   "id": "c4603d74",
   "metadata": {},
   "outputs": [
    {
     "name": "stdout",
     "output_type": "stream",
     "text": [
      "1D array: [0 1 2 3 4 5 6 7 8 9]\n",
      "2D array:\n",
      " [[ 4  1 15]\n",
      " [ 5  7  9]\n",
      " [ 2 13  5]]\n",
      "3D array:\n",
      " [[[1. 1. 1. 1.]\n",
      "  [1. 1. 1. 1.]\n",
      "  [1. 1. 1. 1.]]\n",
      "\n",
      " [[1. 1. 1. 1.]\n",
      "  [1. 1. 1. 1.]\n",
      "  [1. 1. 1. 1.]]]\n",
      "Element-wise sum of 1D arrays: [ 6  8 10 12]\n",
      "Element-wise product of 2D arrays:\n",
      " [[42 36  6]\n",
      " [ 9 36  6]\n",
      " [54 72 81]]\n",
      "Dot product of matrices:\n",
      " [[ 94  54 124]\n",
      " [ 98  48 113]\n",
      " [ 51  30  53]]\n",
      "Mean: 4.5, Median: 4.5, Standard Deviation: 2.8722813232690143\n",
      "Maximum value in 2D array: 15, Minimum value in 2D array: 1\n",
      "Array of 1000 random numbers from normal distribution (first 10 values): [ 1.07801684 -0.11236798 -1.73971408 -0.72115511 -0.74472431 -2.13342157\n",
      " -0.8738014   1.66837244  1.70875431  0.51008345]\n",
      "2D array of random integers from uniform distribution:\n",
      " [[11 18 27 43 50]\n",
      " [26 45 23 23 13]\n",
      " [13 44 33 19 19]\n",
      " [13 29 43 25 16]\n",
      " [29 28 28 42 18]]\n",
      "Cumulative sum of 1D array: [ 0  1  3  6 10 15 21 28 36 45]\n",
      "Correlation coefficient matrix of 2D array:\n",
      " [[ 1.         -0.6724583  -0.26612465 -0.06879562 -0.06402314]\n",
      " [-0.6724583   1.          0.73160933  0.24984875  0.219989  ]\n",
      " [-0.26612465  0.73160933  1.          0.69468307 -0.09027236]\n",
      " [-0.06879562  0.24984875  0.69468307  1.          0.18960595]\n",
      " [-0.06402314  0.219989   -0.09027236  0.18960595  1.        ]]\n",
      "Frequency of each outcome in 1000 die rolls: [156 174 156 184 179 151]\n"
     ]
    }
   ],
   "source": [
    "import numpy as np\n",
    "\n",
    "# 1. Create a 1D NumPy array containing the integers from 0 to 9.\n",
    "array_1d = np.arange(10)\n",
    "print(\"1D array:\", array_1d)\n",
    "\n",
    "# 2. Create a 2D NumPy array (3x3) containing random integers between 1 and 20.\n",
    "array_2d = np.random.randint(1, 21, size=(3, 3))\n",
    "print(\"2D array:\\n\", array_2d)\n",
    "\n",
    "# 3. Create a 3D NumPy array with dimensions (2, 3, 4) filled with ones.\n",
    "array_3d = np.ones((2, 3, 4))\n",
    "print(\"3D array:\\n\", array_3d)\n",
    "\n",
    "# 4. Add two 1D arrays element-wise.\n",
    "array1 = np.array([1, 2, 3, 4])\n",
    "array2 = np.array([5, 6, 7, 8])\n",
    "sum_arrays = np.add(array1, array2)\n",
    "print(\"Element-wise sum of 1D arrays:\", sum_arrays)\n",
    "\n",
    "# 5. Multiply two 2D arrays element-wise.\n",
    "array2d_1 = np.random.randint(1, 10, size=(3, 3))\n",
    "array2d_2 = np.random.randint(1, 10, size=(3, 3))\n",
    "product_arrays = np.multiply(array2d_1, array2d_2)\n",
    "print(\"Element-wise product of 2D arrays:\\n\", product_arrays)\n",
    "\n",
    "# 6. Calculate the dot product of two matrices.\n",
    "matrix1 = np.random.randint(1, 10, size=(3, 3))\n",
    "matrix2 = np.random.randint(1, 10, size=(3, 3))\n",
    "dot_product = np.dot(matrix1, matrix2)\n",
    "print(\"Dot product of matrices:\\n\", dot_product)\n",
    "\n",
    "# 7. Calculate the mean, median, and standard deviation of a 1D array.\n",
    "mean_val = np.mean(array_1d)\n",
    "median_val = np.median(array_1d)\n",
    "std_dev = np.std(array_1d)\n",
    "print(f\"Mean: {mean_val}, Median: {median_val}, Standard Deviation: {std_dev}\")\n",
    "\n",
    "# 8. Find the maximum and minimum values in a 2D array.\n",
    "max_val = np.max(array_2d)\n",
    "min_val = np.min(array_2d)\n",
    "print(f\"Maximum value in 2D array: {max_val}, Minimum value in 2D array: {min_val}\")\n",
    "\n",
    "# 9. Generate an array of 1000 random numbers from a normal distribution with a mean of 0 and a standard deviation of 1.\n",
    "normal_dist_array = np.random.normal(0, 1, 1000)\n",
    "print(\"Array of 1000 random numbers from normal distribution \", normal_dist_array[:10])\n",
    "\n",
    "# 10. Create a 2D array of shape (5, 5) with random integers from a uniform distribution between 10 and 50.\n",
    "uniform_dist_array = np.random.randint(10, 51, size=(5, 5))\n",
    "print(\"2D array of random integers from uniform distribution:\\n\", uniform_dist_array)\n",
    "\n",
    "# 11. Calculate the cumulative sum of a 1D array.\n",
    "cumulative_sum = np.cumsum(array_1d)\n",
    "print(\"Cumulative sum of 1D array:\", cumulative_sum)\n",
    "\n",
    "# 12. Compute the correlation coefficient matrix of a 2D array.\n",
    "correlation_matrix = np.corrcoef(uniform_dist_array)\n",
    "print(\"Correlation coefficient matrix of 2D array:\\n\", correlation_matrix)\n",
    "\n",
    "# 13. Simulate rolling a six-sided die 1000 times and count the frequency of each outcome.\n",
    "die_rolls = np.random.randint(1, 7, 1000)\n",
    "frequency = np.bincount(die_rolls)[1:]\n",
    "print(\"Frequency of each outcome in 1000 die rolls:\", frequency)\n"
   ]
  },
  {
   "cell_type": "markdown",
   "id": "461b5a17",
   "metadata": {},
   "source": [
    "# Example problems "
   ]
  },
  {
   "cell_type": "code",
   "execution_count": 2,
   "id": "dad36696",
   "metadata": {},
   "outputs": [
    {
     "name": "stdout",
     "output_type": "stream",
     "text": [
      "Original Data: [20 25 15  5 18 55 33 38 22 10]\n",
      "Z-scores: [-0.29490298  0.0647348  -0.65454076 -1.37381633 -0.43875809  2.2225615\n",
      "  0.64015525  0.99979304 -0.15104787 -1.01417855]\n"
     ]
    }
   ],
   "source": [
    "import numpy as np\n",
    "\n",
    "data = np.array([20, 25, 15, 5, 18, 55, 33, 38, 22, 10])\n",
    "\n",
    "mean = np.mean(data)\n",
    "std_dev = np.std(data)\n",
    "\n",
    "z_scores = (data - mean) / std_dev\n",
    "\n",
    "print(\"Original Data:\", data)\n",
    "print(\"Z-scores:\", z_scores)\n"
   ]
  },
  {
   "cell_type": "markdown",
   "id": "a97ce6b7",
   "metadata": {},
   "source": [
    "# Z score for normal distribution"
   ]
  },
  {
   "cell_type": "code",
   "execution_count": 3,
   "id": "2f93cad0",
   "metadata": {},
   "outputs": [
    {
     "name": "stdout",
     "output_type": "stream",
     "text": [
      "Original Data (first 10 elements): [67.64052346 54.00157208 59.78737984 72.40893199 68.6755799  40.2272212\n",
      " 59.50088418 48.48642792 48.96781148 54.10598502]\n",
      "Z-scores (first 10 elements): [ 1.69091612  0.33768746  0.91174338  2.16402779  1.79361228 -1.02897526\n",
      "  0.88331787 -0.20951378 -0.1617519   0.34804709]\n"
     ]
    }
   ],
   "source": [
    "import numpy as np\n",
    "\n",
    "np.random.seed(0) \n",
    "data_normal = np.random.normal(loc=50, scale=10, size=100)\n",
    "\n",
    "mean_normal = np.mean(data_normal)\n",
    "std_dev_normal = np.std(data_normal)\n",
    "\n",
    "z_scores_normal = (data_normal - mean_normal) / std_dev_normal\n",
    "\n",
    "print(\"Original Data (first 10 elements):\", data_normal[:10])\n",
    "print(\"Z-scores (first 10 elements):\", z_scores_normal[:10])\n"
   ]
  },
  {
   "cell_type": "markdown",
   "id": "b4a2d87c",
   "metadata": {},
   "source": [
    "# Percentiles "
   ]
  },
  {
   "cell_type": "code",
   "execution_count": 4,
   "id": "521f90a4",
   "metadata": {},
   "outputs": [
    {
     "name": "stdout",
     "output_type": "stream",
     "text": [
      "Original Data (first 10 elements): [32 70 85 31 13 71 56 24 79 41]\n",
      "25th Percentile: 27.25\n",
      "Median (50th Percentile): 45.0\n",
      "75th Percentile: 74.75\n"
     ]
    }
   ],
   "source": [
    "data_percentiles = np.random.randint(low=0, high=100, size=50)\n",
    "\n",
    "percentile_25 = np.percentile(data_percentiles, 25)\n",
    "median = np.percentile(data_percentiles, 50)\n",
    "percentile_75 = np.percentile(data_percentiles, 75)\n",
    "\n",
    "print(\"Original Data (first 10 elements):\", data_percentiles[:10])\n",
    "print(f\"25th Percentile: {percentile_25}\")\n",
    "print(f\"Median (50th Percentile): {median}\")\n",
    "print(f\"75th Percentile: {percentile_75}\")\n"
   ]
  },
  {
   "cell_type": "markdown",
   "id": "261ffd83",
   "metadata": {},
   "source": [
    "# 2d arrays"
   ]
  },
  {
   "cell_type": "code",
   "execution_count": 5,
   "id": "2d42538e",
   "metadata": {},
   "outputs": [
    {
     "name": "stdout",
     "output_type": "stream",
     "text": [
      "2D Array:\n",
      "[[ 4  4  8]\n",
      " [10 10 10]\n",
      " [ 4 15 19]]\n",
      "\n",
      "Element at (0, 0): 4\n",
      "Element at (1, 2): 10\n",
      "\n",
      "First row: [4 4 8]\n",
      "Second column: [ 4 10 15]\n",
      "Subarray (first two rows, last two columns):\n",
      "[[ 4  8]\n",
      " [10 10]]\n",
      "\n",
      "Second 2D Array:\n",
      "[[13  4 10]\n",
      " [11 14  8]\n",
      " [ 8  2 13]]\n",
      "\n",
      "Element-wise addition:\n",
      "[[17  8 18]\n",
      " [21 24 18]\n",
      " [12 17 32]]\n",
      "\n",
      "Element-wise multiplication:\n",
      "[[ 52  16  80]\n",
      " [110 140  80]\n",
      " [ 32  30 247]]\n",
      "\n",
      "Matrix multiplication (dot product):\n",
      "[[160  88 176]\n",
      " [320 200 310]\n",
      " [369 264 407]]\n"
     ]
    }
   ],
   "source": [
    "import numpy as np\n",
    "\n",
    "\n",
    "arr_2d = np.random.randint(low=1, high=20, size=(3, 3))\n",
    "print(\"2D Array:\")\n",
    "print(arr_2d)\n",
    "print()\n",
    "print(\"Element at (0, 0):\", arr_2d[0, 0])\n",
    "print(\"Element at (1, 2):\", arr_2d[1, 2])\n",
    "print()\n",
    "print(\"First row:\", arr_2d[0])\n",
    "print(\"Second column:\", arr_2d[:, 1])\n",
    "print(\"Subarray (first two rows, last two columns):\")\n",
    "print(arr_2d[:2, -2:])\n",
    "print()\n",
    "arr_2d_2 = np.random.randint(low=1, high=20, size=(3, 3))\n",
    "print(\"Second 2D Array:\")\n",
    "print(arr_2d_2)\n",
    "print()\n",
    "print(\"Element-wise addition:\")\n",
    "print(arr_2d + arr_2d_2)\n",
    "print()\n",
    "print(\"Element-wise multiplication:\")\n",
    "print(arr_2d * arr_2d_2)\n",
    "print()\n",
    "matrix_mult = np.dot(arr_2d, arr_2d_2)\n",
    "print(\"Matrix multiplication (dot product):\")\n",
    "print(matrix_mult)\n"
   ]
  },
  {
   "cell_type": "markdown",
   "id": "f635914e",
   "metadata": {},
   "source": [
    "# Rotation in arrays "
   ]
  },
  {
   "cell_type": "code",
   "execution_count": 6,
   "id": "f9d3d151",
   "metadata": {},
   "outputs": [
    {
     "name": "stdout",
     "output_type": "stream",
     "text": [
      "Original Matrix:\n",
      "[1, 2, 3]\n",
      "[4, 5, 6]\n",
      "[7, 8, 9]\n",
      "\n",
      "Anticlockwise Rotated Matrix:\n",
      "[7, 4, 1]\n",
      "[8, 5, 2]\n",
      "[9, 6, 3]\n"
     ]
    }
   ],
   "source": [
    "import numpy as np\n",
    "\n",
    "def rotate_anticlockwise(matrix):\n",
    "    \n",
    "    arr = np.array(matrix)\n",
    "    transposed = np.transpose(arr)\n",
    "    rotated = np.flip(transposed, axis=1)\n",
    "    \n",
    "    return rotated.tolist()  \n",
    "\n",
    "\n",
    "matrix = [\n",
    "    [1, 2, 3],\n",
    "    [4, 5, 6],\n",
    "    [7, 8, 9]\n",
    "]\n",
    "\n",
    "print(\"Original Matrix:\")\n",
    "for row in matrix:\n",
    "    print(row)\n",
    "\n",
    "rotated_matrix = rotate_anticlockwise(matrix)\n",
    "\n",
    "print(\"\\nAnticlockwise Rotated Matrix:\")\n",
    "for row in rotated_matrix:\n",
    "    print(row)\n"
   ]
  },
  {
   "cell_type": "code",
   "execution_count": null,
   "id": "f0d6b464",
   "metadata": {},
   "outputs": [],
   "source": []
  }
 ],
 "metadata": {
  "kernelspec": {
   "display_name": "Python 3 (ipykernel)",
   "language": "python",
   "name": "python3"
  },
  "language_info": {
   "codemirror_mode": {
    "name": "ipython",
    "version": 3
   },
   "file_extension": ".py",
   "mimetype": "text/x-python",
   "name": "python",
   "nbconvert_exporter": "python",
   "pygments_lexer": "ipython3",
   "version": "3.11.5"
  }
 },
 "nbformat": 4,
 "nbformat_minor": 5
}
