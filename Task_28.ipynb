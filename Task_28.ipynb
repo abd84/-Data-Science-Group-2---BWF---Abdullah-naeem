{
  "nbformat": 4,
  "nbformat_minor": 0,
  "metadata": {
    "colab": {
      "provenance": []
    },
    "kernelspec": {
      "name": "python3",
      "display_name": "Python 3"
    },
    "language_info": {
      "name": "python"
    }
  },
  "cells": [
    {
      "cell_type": "markdown",
      "source": [
        "# Cross-Validation\n",
        "Cross-validation is a technique for assessing the performance and generalization capability of a model. It helps to ensure that the model's performance is robust and not just a result of overfitting to a particular subset of data. Here’s how it typically works:\n",
        "\n",
        "**Partitioning the Data:** The dataset is split into multiple subsets or \"folds\". A common method is k-fold cross-validation, where the data is divided into\n",
        "𝑘\n",
        "k folds.\n",
        "\n",
        "**Training and Testing:** The model is trained on\n",
        "𝑘\n",
        "−\n",
        "1\n",
        "k−1 of these folds and tested on the remaining fold. This process is repeated\n",
        "𝑘\n",
        "k times, with each fold used exactly once as the test set.\n",
        "\n",
        "**Aggregating Results:** The performance metrics (like accuracy, precision, recall) from each iteration are averaged to provide an overall performance estimate.\n",
        "\n",
        "**Benefits of Cross-Validation:**\n",
        "\n",
        "Provides a more accurate measure of model performance compared to a single train-test split.\n",
        "Helps in assessing how the model generalizes to an independent dataset.\n",
        "\n",
        "# Overfitting\n",
        "occurs when a model becomes too complex and learns the details and noise in the training data to the extent that it negatively impacts its performance on new, unseen data. This typically happens when:\n",
        "\n",
        "The model has too many parameters relative to the amount of training data.\n",
        "The model is too flexible and can fit a wide range of functions.\n",
        "Characteristics of Overfitting:\n",
        "\n",
        "**High Training Accuracy:** The model performs exceptionally well on the training data.\n",
        "Low Testing Accuracy: The performance on unseen data or validation sets is significantly worse.\n",
        "Mitigation Strategies:\n",
        "\n",
        "**Regularization:** Techniques like L1 (Lasso) or L2 (Ridge) regularization can penalize overly complex models.\n",
        "Pruning: Simplifying the model by removing parts that do not contribute to performance.\n",
        "Early Stopping: Halt training before the model starts to overfit.\n",
        "\n",
        "# Underfitting\n",
        "Underfitting happens when a model is too simple to capture the underlying patterns in the data. This occurs when:\n",
        "\n",
        "The model has too few parameters or is not complex enough.\n",
        "The model is too constrained to represent the data well.\n",
        "\n",
        "**Characteristics of Underfitting:**\n",
        "\n",
        "Low Training Accuracy: The model performs poorly on both the training data and unseen data.\n",
        "High Bias: The model makes strong assumptions about the data and fails to capture its complexity.\n",
        "Mitigation Strategies:\n",
        "\n",
        "Increasing Model Complexity: Use a more complex model or add features to better capture the data patterns.\n",
        "Feature Engineering: Include additional features or transform existing ones to provide more information to the model."
      ],
      "metadata": {
        "id": "NIruQnLedbJf"
      }
    },
    {
      "cell_type": "code",
      "execution_count": null,
      "metadata": {
        "id": "9BmgyJTsdalh"
      },
      "outputs": [],
      "source": [
        "import numpy as np\n",
        "import pandas as pd\n",
        "from sklearn.datasets import load_iris\n",
        "from sklearn.model_selection import train_test_split, cross_val_score\n",
        "from sklearn.linear_model import LogisticRegression\n",
        "from sklearn.tree import DecisionTreeClassifier\n",
        "from sklearn.metrics import accuracy_score\n",
        "import matplotlib.pyplot as plt\n",
        "# Load the Iris dataset\n",
        "iris = load_iris()\n",
        "X = iris.data\n",
        "y = iris.target\n",
        "# Split data into training and testing sets\n",
        "X_train, X_test, y_train, y_test = train_test_split(X, y, test_size=0.3, random_state=42)\n",
        "# Define a simple model (Logistic Regression)\n",
        "simple_model = LogisticRegression(max_iter=1000)\n",
        "\n",
        "# Define a complex model (Decision Tree with no limit on depth)\n",
        "complex_model = DecisionTreeClassifier()\n"
      ]
    },
    {
      "cell_type": "markdown",
      "source": [
        "# Cross-Validation and Performance Evaluation"
      ],
      "metadata": {
        "id": "ecL158VYd_FR"
      }
    },
    {
      "cell_type": "code",
      "source": [
        "# Perform cross-validation on the simple model\n",
        "simple_model_cv_scores = cross_val_score(simple_model, X, y, cv=5)\n",
        "print(f\"Simple Model (Logistic Regression) - Cross-Validation Scores: {simple_model_cv_scores}\")\n",
        "print(f\"Mean CV Score for Simple Model: {np.mean(simple_model_cv_scores)}\")\n",
        "\n",
        "# Perform cross-validation on the complex model\n",
        "complex_model_cv_scores = cross_val_score(complex_model, X, y, cv=5)\n",
        "print(f\"Complex Model (Decision Tree) - Cross-Validation Scores: {complex_model_cv_scores}\")\n",
        "print(f\"Mean CV Score for Complex Model: {np.mean(complex_model_cv_scores)}\")"
      ],
      "metadata": {
        "colab": {
          "base_uri": "https://localhost:8080/"
        },
        "id": "sPNpLIVKd8dR",
        "outputId": "c22acb42-69b8-4ac5-a468-306c70c8a1bb"
      },
      "execution_count": null,
      "outputs": [
        {
          "output_type": "stream",
          "name": "stdout",
          "text": [
            "Simple Model (Logistic Regression) - Cross-Validation Scores: [0.96666667 1.         0.93333333 0.96666667 1.        ]\n",
            "Mean CV Score for Simple Model: 0.9733333333333334\n",
            "Complex Model (Decision Tree) - Cross-Validation Scores: [0.96666667 0.96666667 0.9        1.         1.        ]\n",
            "Mean CV Score for Complex Model: 0.9666666666666668\n"
          ]
        }
      ]
    },
    {
      "cell_type": "markdown",
      "source": [
        "# Train and Test Models"
      ],
      "metadata": {
        "id": "hjrrkjXKeDWc"
      }
    },
    {
      "cell_type": "code",
      "source": [
        "simple_model.fit(X_train, y_train)\n",
        "simple_model_predictions = simple_model.predict(X_test)\n",
        "print(f\"Simple Model Accuracy on Test Data: {accuracy_score(y_test, simple_model_predictions)}\")\n",
        "complex_model.fit(X_train, y_train)\n",
        "complex_model_predictions = complex_model.predict(X_test)\n",
        "print(f\"Complex Model Accuracy on Test Data: {accuracy_score(y_test, complex_model_predictions)}\")"
      ],
      "metadata": {
        "colab": {
          "base_uri": "https://localhost:8080/"
        },
        "id": "nk6ZtyXleBng",
        "outputId": "0208e0ee-2380-4620-8833-f47a6b3d5754"
      },
      "execution_count": null,
      "outputs": [
        {
          "output_type": "stream",
          "name": "stdout",
          "text": [
            "Simple Model Accuracy on Test Data: 1.0\n",
            "Complex Model Accuracy on Test Data: 1.0\n"
          ]
        }
      ]
    },
    {
      "cell_type": "code",
      "source": [],
      "metadata": {
        "id": "KhTWiqunem3G"
      },
      "execution_count": null,
      "outputs": []
    },
    {
      "cell_type": "markdown",
      "source": [
        "# Visualize Performance"
      ],
      "metadata": {
        "id": "uFvixX_0eJZJ"
      }
    },
    {
      "cell_type": "code",
      "source": [
        "models = ['Logistic Regression', 'Decision Tree']\n",
        "train_scores = [accuracy_score(y_test, simple_model_predictions),\n",
        "                accuracy_score(y_test, complex_model_predictions)]\n",
        "\n",
        "plt.bar(models, train_scores, color=['blue', 'green'])\n",
        "plt.xlabel('Model')\n",
        "plt.ylabel('Accuracy')\n",
        "plt.title('Model Performance on Test Data')\n",
        "plt.ylim([0, 1])\n",
        "plt.show()\n"
      ],
      "metadata": {
        "colab": {
          "base_uri": "https://localhost:8080/",
          "height": 472
        },
        "id": "go-5Cyg2eHMz",
        "outputId": "79e9572a-0697-44ac-d125-9729061ac724"
      },
      "execution_count": null,
      "outputs": [
        {
          "output_type": "display_data",
          "data": {
            "text/plain": [
              "<Figure size 640x480 with 1 Axes>"
            ],
            "image/png": "[encoded data removed]"
          },
          "metadata": {}
        }
      ]
    }
  ]
}