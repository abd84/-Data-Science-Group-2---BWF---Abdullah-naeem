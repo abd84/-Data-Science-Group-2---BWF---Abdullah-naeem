{
  "nbformat": 4,
  "nbformat_minor": 0,
  "metadata": {
    "colab": {
      "provenance": []
    },
    "kernelspec": {
      "name": "python3",
      "display_name": "Python 3"
    },
    "language_info": {
      "name": "python"
    }
  },
  "cells": [
    {
      "cell_type": "markdown",
      "source": [
        "# NLP Common Techniques NER & Sentiment"
      ],
      "metadata": {
        "id": "NFnoUSIglear"
      }
    },
    {
      "cell_type": "code",
      "execution_count": 1,
      "metadata": {
        "colab": {
          "base_uri": "https://localhost:8080/"
        },
        "id": "KJzUY9nTlbtb",
        "outputId": "954da7eb-bf3f-4c96-bbea-dda4f024c485"
      },
      "outputs": [
        {
          "output_type": "stream",
          "name": "stdout",
          "text": [
            "Requirement already satisfied: nltk in /usr/local/lib/python3.10/dist-packages (3.8.1)\n",
            "Requirement already satisfied: textblob in /usr/local/lib/python3.10/dist-packages (0.17.1)\n",
            "Requirement already satisfied: click in /usr/local/lib/python3.10/dist-packages (from nltk) (8.1.7)\n",
            "Requirement already satisfied: joblib in /usr/local/lib/python3.10/dist-packages (from nltk) (1.4.2)\n",
            "Requirement already satisfied: regex>=2021.8.3 in /usr/local/lib/python3.10/dist-packages (from nltk) (2024.5.15)\n",
            "Requirement already satisfied: tqdm in /usr/local/lib/python3.10/dist-packages (from nltk) (4.66.5)\n"
          ]
        }
      ],
      "source": [
        "pip install nltk textblob\n"
      ]
    },
    {
      "cell_type": "code",
      "source": [
        "import nltk\n",
        "from nltk import word_tokenize, pos_tag, ne_chunk\n",
        "from textblob import TextBlob\n",
        "from nltk.tree import Tree\n",
        "nltk.download('punkt')\n",
        "nltk.download('maxent_ne_chunker')\n",
        "nltk.download('words')\n",
        "nltk.download('averaged_perceptron_tagger')\n"
      ],
      "metadata": {
        "colab": {
          "base_uri": "https://localhost:8080/"
        },
        "id": "sKFAmilfltb4",
        "outputId": "0e9c7836-8ae1-4bf3-c466-282af70d9905"
      },
      "execution_count": 20,
      "outputs": [
        {
          "output_type": "stream",
          "name": "stderr",
          "text": [
            "[nltk_data] Downloading package punkt to /root/nltk_data...\n",
            "[nltk_data]   Package punkt is already up-to-date!\n",
            "[nltk_data] Downloading package maxent_ne_chunker to\n",
            "[nltk_data]     /root/nltk_data...\n",
            "[nltk_data]   Package maxent_ne_chunker is already up-to-date!\n",
            "[nltk_data] Downloading package words to /root/nltk_data...\n",
            "[nltk_data]   Package words is already up-to-date!\n",
            "[nltk_data] Downloading package averaged_perceptron_tagger to\n",
            "[nltk_data]     /root/nltk_data...\n",
            "[nltk_data]   Package averaged_perceptron_tagger is already up-to-\n",
            "[nltk_data]       date!\n"
          ]
        },
        {
          "output_type": "execute_result",
          "data": {
            "text/plain": [
              "True"
            ]
          },
          "metadata": {},
          "execution_count": 20
        }
      ]
    },
    {
      "cell_type": "code",
      "source": [
        "text = \"\"\"\n",
        "Barack Obama was born on August 4, 1961, in Honolulu, Hawaii. He became the 44th President of the United States in 2009.\n",
        "He won the Nobel Peace Prize in 2009 for his extraordinary efforts to strengthen international diplomacy and cooperation between peoples.\n",
        "\"\"\""
      ],
      "metadata": {
        "id": "kKch9NxwmKo5"
      },
      "execution_count": 6,
      "outputs": []
    },
    {
      "cell_type": "markdown",
      "source": [
        "# NER"
      ],
      "metadata": {
        "id": "9Gc30nfpmPRj"
      }
    },
    {
      "cell_type": "code",
      "source": [
        "def perform_ner(text):\n",
        "    tokens = word_tokenize(text)\n",
        "    tagged = pos_tag(tokens)\n",
        "    entities = ne_chunk(tagged)\n",
        "    named_entities = []\n",
        "    for chunk in entities:\n",
        "        if isinstance(chunk, Tree):\n",
        "            entity_name = \" \".join([token for token, pos in chunk.leaves()])\n",
        "            entity_type = chunk.label()\n",
        "            named_entities.append((entity_name, entity_type))\n",
        "\n",
        "    return named_entities"
      ],
      "metadata": {
        "id": "Jh7DC8LCmQh-"
      },
      "execution_count": 18,
      "outputs": []
    },
    {
      "cell_type": "markdown",
      "source": [
        "# Sentiment analysis"
      ],
      "metadata": {
        "id": "4B9PoSn8mWwq"
      }
    },
    {
      "cell_type": "code",
      "source": [
        "def sentiment_analysis(text):\n",
        "    blob = TextBlob(text)\n",
        "    sentiment = blob.sentiment\n",
        "    return sentiment.polarity, sentiment.subjectivity"
      ],
      "metadata": {
        "id": "PtIwDxHQmZED"
      },
      "execution_count": 8,
      "outputs": []
    },
    {
      "cell_type": "code",
      "source": [
        "print(\"Named Entity Recognition (NER):\")\n",
        "ner_results = perform_ner(sample_text)\n",
        "print(ner_results)\n",
        "\n",
        "print(\"\\nSentiment Analysis:\")\n",
        "polarity, subjectivity = sentiment_analysis(sample_text)\n",
        "print(f\"Polarity: {polarity}, Subjectivity: {subjectivity}\")\n",
        "\n",
        "print(\"\\nEntities with Sentiment:\")\n",
        "for entity, label in ner_results:\n",
        "    sentiment_label = 'Positive' if polarity > 0 else 'Negative' if polarity < 0 else 'Neutral'\n",
        "    print(f\"Entity: {entity} (Type: {label}) - Sentiment: {sentiment_label}\")"
      ],
      "metadata": {
        "colab": {
          "base_uri": "https://localhost:8080/"
        },
        "id": "3AdsUJHdmkHl",
        "outputId": "a301bbc2-e437-478a-8f55-1f6a39f312ae"
      },
      "execution_count": 22,
      "outputs": [
        {
          "output_type": "stream",
          "name": "stdout",
          "text": [
            "Named Entity Recognition (NER):\n",
            "[('Barack', 'PERSON'), ('Obama', 'PERSON'), ('Honolulu', 'GPE'), ('Hawaii', 'GPE'), ('United States', 'GPE'), ('Nobel Peace Prize', 'ORGANIZATION')]\n",
            "\n",
            "Sentiment Analysis:\n",
            "Polarity: 0.16666666666666666, Subjectivity: 0.5\n",
            "\n",
            "Entities with Sentiment:\n",
            "Entity: Barack (Type: PERSON) - Sentiment: Positive\n",
            "Entity: Obama (Type: PERSON) - Sentiment: Positive\n",
            "Entity: Honolulu (Type: GPE) - Sentiment: Positive\n",
            "Entity: Hawaii (Type: GPE) - Sentiment: Positive\n",
            "Entity: United States (Type: GPE) - Sentiment: Positive\n",
            "Entity: Nobel Peace Prize (Type: ORGANIZATION) - Sentiment: Positive\n"
          ]
        }
      ]
    }
  ]
}