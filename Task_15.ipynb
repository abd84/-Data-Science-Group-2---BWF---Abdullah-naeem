{
  "nbformat": 4,
  "nbformat_minor": 0,
  "metadata": {
    "colab": {
      "provenance": []
    },
    "kernelspec": {
      "name": "python3",
      "display_name": "Python 3"
    },
    "language_info": {
      "name": "python"
    }
  },
  "cells": [
    {
      "cell_type": "code",
      "execution_count": 1,
      "metadata": {
        "id": "1R5OwAOO8eOL"
      },
      "outputs": [],
      "source": [
        "import pandas as pd\n",
        "\n",
        "# Sales DataFrame\n",
        "sales_df = pd.DataFrame({\n",
        "    'OrderID': [1, 2, 3, 4, 5],\n",
        "    'CustomerID': [101, 102, 103, 104, 105],\n",
        "    'Product': ['A', 'B', 'C', 'D', 'E'],\n",
        "    'Quantity': [10, 5, 8, 3, 7],\n",
        "    'Price': [100, 200, 150, 300, 250]\n",
        "})\n",
        "\n",
        "# Customer DataFrame\n",
        "customer_df = pd.DataFrame({\n",
        "    'CustomerID': [101, 102, 103, 106],\n",
        "    'CustomerName': ['John Doe', 'Jane Smith', 'Emily Jones', 'Michael Brown'],\n",
        "    'Location': ['New York', 'California', 'Texas', 'Nevada']\n",
        "})\n",
        "\n",
        "# Additional Sales DataFrame\n",
        "additional_sales_df = pd.DataFrame({\n",
        "    'OrderID': [6, 7, 8],\n",
        "    'CustomerID': [104, 105, 101],\n",
        "    'Product': ['F', 'G', 'H'],\n",
        "    'Quantity': [2, 4, 6],\n",
        "    'Price': [400, 500, 600]\n",
        "})\n"
      ]
    },
    {
      "cell_type": "code",
      "source": [],
      "metadata": {
        "id": "7yu-kJoi_Qbf"
      },
      "execution_count": null,
      "outputs": []
    },
    {
      "cell_type": "markdown",
      "source": [
        "# Merge Two DataFrames on a Single Key"
      ],
      "metadata": {
        "id": "q-oyfRWy_OFe"
      }
    },
    {
      "cell_type": "code",
      "source": [
        "# Merge on CustomerID\n",
        "merged_single_key_df = pd.merge(sales_df, customer_df, on='CustomerID', how='inner')\n",
        "print(merged_single_key_df)"
      ],
      "metadata": {
        "colab": {
          "base_uri": "https://localhost:8080/"
        },
        "id": "Gb4glbJ38jPa",
        "outputId": "0f42ef57-7dc8-421e-f311-a14249b282e4"
      },
      "execution_count": 2,
      "outputs": [
        {
          "output_type": "stream",
          "name": "stdout",
          "text": [
            "   OrderID  CustomerID Product  Quantity  Price CustomerName    Location\n",
            "0        1         101       A        10    100     John Doe    New York\n",
            "1        2         102       B         5    200   Jane Smith  California\n",
            "2        3         103       C         8    150  Emily Jones       Texas\n"
          ]
        }
      ]
    },
    {
      "cell_type": "markdown",
      "source": [
        "# Merge Two DataFrames on Multiple Keys"
      ],
      "metadata": {
        "id": "4gRlRGgX_S6o"
      }
    },
    {
      "cell_type": "code",
      "source": [
        "# Assume we have another DataFrame with multiple keys\n",
        "multi_key_df = pd.DataFrame({\n",
        "    'CustomerID': [101, 102, 103, 104, 105],\n",
        "    'Product': ['A', 'B', 'C', 'D', 'E'],\n",
        "    'Discount': [5, 10, 15, 20, 25]\n",
        "})\n",
        "\n",
        "# Merge on CustomerID and Product\n",
        "merged_multi_key_df = pd.merge(sales_df, multi_key_df, on=['CustomerID', 'Product'], how='inner')\n",
        "print(merged_multi_key_df)"
      ],
      "metadata": {
        "colab": {
          "base_uri": "https://localhost:8080/"
        },
        "id": "KBKPu7MF8mnf",
        "outputId": "afb0062e-3020-42ce-b513-a58667c2baa1"
      },
      "execution_count": 3,
      "outputs": [
        {
          "output_type": "stream",
          "name": "stdout",
          "text": [
            "   OrderID  CustomerID Product  Quantity  Price  Discount\n",
            "0        1         101       A        10    100         5\n",
            "1        2         102       B         5    200        10\n",
            "2        3         103       C         8    150        15\n",
            "3        4         104       D         3    300        20\n",
            "4        5         105       E         7    250        25\n"
          ]
        }
      ]
    },
    {
      "cell_type": "markdown",
      "source": [
        "# Perform Different Types of Joins"
      ],
      "metadata": {
        "id": "jz4SWehP_XqB"
      }
    },
    {
      "cell_type": "code",
      "source": [
        "# Outer join\n",
        "outer_join_df = pd.merge(sales_df, customer_df, on='CustomerID', how='outer')\n",
        "print(outer_join_df)\n",
        "\n",
        "# Inner join\n",
        "inner_join_df = pd.merge(sales_df, customer_df, on='CustomerID', how='inner')\n",
        "print(inner_join_df)\n",
        "\n",
        "# Left join\n",
        "left_join_df = pd.merge(sales_df, customer_df, on='CustomerID', how='left')\n",
        "print(left_join_df)\n",
        "\n",
        "# Right join\n",
        "right_join_df = pd.merge(sales_df, customer_df, on='CustomerID', how='right')\n",
        "print(right_join_df)"
      ],
      "metadata": {
        "colab": {
          "base_uri": "https://localhost:8080/"
        },
        "id": "4S0Q_zky8pkx",
        "outputId": "92527843-e976-4bde-d9c2-ccf1f2df3fd0"
      },
      "execution_count": 4,
      "outputs": [
        {
          "output_type": "stream",
          "name": "stdout",
          "text": [
            "   OrderID  CustomerID Product  Quantity  Price   CustomerName    Location\n",
            "0      1.0         101       A      10.0  100.0       John Doe    New York\n",
            "1      2.0         102       B       5.0  200.0     Jane Smith  California\n",
            "2      3.0         103       C       8.0  150.0    Emily Jones       Texas\n",
            "3      4.0         104       D       3.0  300.0            NaN         NaN\n",
            "4      5.0         105       E       7.0  250.0            NaN         NaN\n",
            "5      NaN         106     NaN       NaN    NaN  Michael Brown      Nevada\n",
            "   OrderID  CustomerID Product  Quantity  Price CustomerName    Location\n",
            "0        1         101       A        10    100     John Doe    New York\n",
            "1        2         102       B         5    200   Jane Smith  California\n",
            "2        3         103       C         8    150  Emily Jones       Texas\n",
            "   OrderID  CustomerID Product  Quantity  Price CustomerName    Location\n",
            "0        1         101       A        10    100     John Doe    New York\n",
            "1        2         102       B         5    200   Jane Smith  California\n",
            "2        3         103       C         8    150  Emily Jones       Texas\n",
            "3        4         104       D         3    300          NaN         NaN\n",
            "4        5         105       E         7    250          NaN         NaN\n",
            "   OrderID  CustomerID Product  Quantity  Price   CustomerName    Location\n",
            "0      1.0         101       A      10.0  100.0       John Doe    New York\n",
            "1      2.0         102       B       5.0  200.0     Jane Smith  California\n",
            "2      3.0         103       C       8.0  150.0    Emily Jones       Texas\n",
            "3      NaN         106     NaN       NaN    NaN  Michael Brown      Nevada\n"
          ]
        }
      ]
    },
    {
      "cell_type": "markdown",
      "source": [
        "# Concatenate DataFrames"
      ],
      "metadata": {
        "id": "J4vG1dus_ba5"
      }
    },
    {
      "cell_type": "code",
      "source": [
        "# Concatenate along rows\n",
        "concat_rows_df = pd.concat([sales_df, additional_sales_df], axis=0)\n",
        "print(concat_rows_df)\n",
        "\n",
        "# Concatenate along columns\n",
        "concat_columns_df = pd.concat([sales_df, customer_df], axis=1)\n",
        "print(concat_columns_df)\n",
        "\n",
        "# Concatenate a list of DataFrames\n",
        "list_of_dfs = [sales_df, additional_sales_df]\n",
        "concat_list_df = pd.concat(list_of_dfs, ignore_index=True)\n",
        "print(concat_list_df)"
      ],
      "metadata": {
        "colab": {
          "base_uri": "https://localhost:8080/"
        },
        "id": "p1YjdwQz8rZ8",
        "outputId": "7f1e4e60-6bc4-430c-deaa-a427e8bb76c2"
      },
      "execution_count": 5,
      "outputs": [
        {
          "output_type": "stream",
          "name": "stdout",
          "text": [
            "   OrderID  CustomerID Product  Quantity  Price\n",
            "0        1         101       A        10    100\n",
            "1        2         102       B         5    200\n",
            "2        3         103       C         8    150\n",
            "3        4         104       D         3    300\n",
            "4        5         105       E         7    250\n",
            "0        6         104       F         2    400\n",
            "1        7         105       G         4    500\n",
            "2        8         101       H         6    600\n",
            "   OrderID  CustomerID Product  Quantity  Price  CustomerID   CustomerName  \\\n",
            "0        1         101       A        10    100       101.0       John Doe   \n",
            "1        2         102       B         5    200       102.0     Jane Smith   \n",
            "2        3         103       C         8    150       103.0    Emily Jones   \n",
            "3        4         104       D         3    300       106.0  Michael Brown   \n",
            "4        5         105       E         7    250         NaN            NaN   \n",
            "\n",
            "     Location  \n",
            "0    New York  \n",
            "1  California  \n",
            "2       Texas  \n",
            "3      Nevada  \n",
            "4         NaN  \n",
            "   OrderID  CustomerID Product  Quantity  Price\n",
            "0        1         101       A        10    100\n",
            "1        2         102       B         5    200\n",
            "2        3         103       C         8    150\n",
            "3        4         104       D         3    300\n",
            "4        5         105       E         7    250\n",
            "5        6         104       F         2    400\n",
            "6        7         105       G         4    500\n",
            "7        8         101       H         6    600\n"
          ]
        }
      ]
    },
    {
      "cell_type": "markdown",
      "source": [
        "# Reshape Data Using Melt"
      ],
      "metadata": {
        "id": "V7m5YY7D_eqc"
      }
    },
    {
      "cell_type": "code",
      "source": [
        "# Melt sales_df from wide to long format\n",
        "melted_df = pd.melt(sales_df, id_vars=['OrderID', 'CustomerID'], value_vars=['Product', 'Quantity', 'Price'])\n",
        "print(melted_df)"
      ],
      "metadata": {
        "colab": {
          "base_uri": "https://localhost:8080/"
        },
        "id": "CjbepTQ88tPH",
        "outputId": "4c6b14cd-c192-4c56-ae13-e9e43c381a7e"
      },
      "execution_count": 6,
      "outputs": [
        {
          "output_type": "stream",
          "name": "stdout",
          "text": [
            "    OrderID  CustomerID  variable value\n",
            "0         1         101   Product     A\n",
            "1         2         102   Product     B\n",
            "2         3         103   Product     C\n",
            "3         4         104   Product     D\n",
            "4         5         105   Product     E\n",
            "5         1         101  Quantity    10\n",
            "6         2         102  Quantity     5\n",
            "7         3         103  Quantity     8\n",
            "8         4         104  Quantity     3\n",
            "9         5         105  Quantity     7\n",
            "10        1         101     Price   100\n",
            "11        2         102     Price   200\n",
            "12        3         103     Price   150\n",
            "13        4         104     Price   300\n",
            "14        5         105     Price   250\n"
          ]
        }
      ]
    },
    {
      "cell_type": "markdown",
      "source": [
        "# Create a Pivot Table"
      ],
      "metadata": {
        "id": "gaktodoM_u5S"
      }
    },
    {
      "cell_type": "code",
      "source": [
        "# Pivot table to summarize data\n",
        "pivot_table_df = pd.pivot_table(sales_df, values='Quantity', index='Product', columns='CustomerID', aggfunc='sum')\n",
        "print(pivot_table_df)"
      ],
      "metadata": {
        "colab": {
          "base_uri": "https://localhost:8080/"
        },
        "id": "pEyyGlCx8u90",
        "outputId": "ea6ac4f3-4703-4c20-de5a-eb83472c605c"
      },
      "execution_count": 7,
      "outputs": [
        {
          "output_type": "stream",
          "name": "stdout",
          "text": [
            "CustomerID   101  102  103  104  105\n",
            "Product                             \n",
            "A           10.0  NaN  NaN  NaN  NaN\n",
            "B            NaN  5.0  NaN  NaN  NaN\n",
            "C            NaN  NaN  8.0  NaN  NaN\n",
            "D            NaN  NaN  NaN  3.0  NaN\n",
            "E            NaN  NaN  NaN  NaN  7.0\n"
          ]
        }
      ]
    },
    {
      "cell_type": "markdown",
      "source": [
        "# Group Data and Perform Aggregations"
      ],
      "metadata": {
        "id": "wgvGHWE2_xiP"
      }
    },
    {
      "cell_type": "code",
      "source": [
        "# Group by Product and calculate sum of Quantity\n",
        "grouped_sum_df = sales_df.groupby('Product')['Quantity'].sum().reset_index()\n",
        "print(grouped_sum_df)\n",
        "\n",
        "# Group by Product and apply multiple aggregations\n",
        "grouped_agg_df = sales_df.groupby('Product').agg({'Quantity': ['sum', 'mean'], 'Price': 'mean'}).reset_index()\n",
        "print(grouped_agg_df)"
      ],
      "metadata": {
        "colab": {
          "base_uri": "https://localhost:8080/"
        },
        "id": "UUKMBy918wrr",
        "outputId": "a96d9e88-4f6a-48f5-b149-7cc8b781c6ba"
      },
      "execution_count": 8,
      "outputs": [
        {
          "output_type": "stream",
          "name": "stdout",
          "text": [
            "  Product  Quantity\n",
            "0       A        10\n",
            "1       B         5\n",
            "2       C         8\n",
            "3       D         3\n",
            "4       E         7\n",
            "  Product Quantity        Price\n",
            "               sum  mean   mean\n",
            "0       A       10  10.0  100.0\n",
            "1       B        5   5.0  200.0\n",
            "2       C        8   8.0  150.0\n",
            "3       D        3   3.0  300.0\n",
            "4       E        7   7.0  250.0\n"
          ]
        }
      ]
    },
    {
      "cell_type": "markdown",
      "source": [
        "# Use Groupby and Apply Custom Functions"
      ],
      "metadata": {
        "id": "IfBWptPX_0no"
      }
    },
    {
      "cell_type": "code",
      "source": [
        "# Group by CustomerID and apply a custom function\n",
        "def custom_agg(group):\n",
        "    return pd.Series({\n",
        "        'TotalQuantity': group['Quantity'].sum(),\n",
        "        'TotalPrice': group['Price'].sum()\n",
        "    })\n",
        "\n",
        "custom_grouped_df = sales_df.groupby('CustomerID').apply(custom_agg).reset_index()\n",
        "print(custom_grouped_df)"
      ],
      "metadata": {
        "colab": {
          "base_uri": "https://localhost:8080/"
        },
        "id": "MKhN74nx_JtW",
        "outputId": "675b8a9a-389e-4644-da82-c656372a554b"
      },
      "execution_count": 9,
      "outputs": [
        {
          "output_type": "stream",
          "name": "stdout",
          "text": [
            "   CustomerID  TotalQuantity  TotalPrice\n",
            "0         101             10         100\n",
            "1         102              5         200\n",
            "2         103              8         150\n",
            "3         104              3         300\n",
            "4         105              7         250\n"
          ]
        }
      ]
    }
  ]
}