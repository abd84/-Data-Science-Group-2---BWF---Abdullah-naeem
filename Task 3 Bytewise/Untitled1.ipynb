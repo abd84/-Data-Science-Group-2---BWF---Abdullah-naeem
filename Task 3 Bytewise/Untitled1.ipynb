{
 "cells": [
  {
   "cell_type": "markdown",
   "id": "425792c8",
   "metadata": {},
   "source": [
    "# Task 3 "
   ]
  },
  {
   "cell_type": "markdown",
   "id": "792950b4",
   "metadata": {},
   "source": [
    "Simple hello word programme "
   ]
  },
  {
   "cell_type": "code",
   "execution_count": 1,
   "id": "74e23b54",
   "metadata": {},
   "outputs": [
    {
     "name": "stdout",
     "output_type": "stream",
     "text": [
      "Hello world \n"
     ]
    }
   ],
   "source": [
    "print(\"Hello world \")"
   ]
  },
  {
   "cell_type": "code",
   "execution_count": null,
   "id": "f43301c6",
   "metadata": {},
   "outputs": [],
   "source": [
    "b=5\n",
    "a=4\n",
    "print(a+b)"
   ]
  },
  {
   "cell_type": "code",
   "execution_count": null,
   "id": "6ccc7b06",
   "metadata": {},
   "outputs": [],
   "source": []
  }
 ],
 "metadata": {
  "kernelspec": {
   "display_name": "Python 3 (ipykernel)",
   "language": "python",
   "name": "python3"
  },
  "language_info": {
   "codemirror_mode": {
    "name": "ipython",
    "version": 3
   },
   "file_extension": ".py",
   "mimetype": "text/x-python",
   "name": "python",
   "nbconvert_exporter": "python",
   "pygments_lexer": "ipython3",
   "version": "3.11.5"
  }
 },
 "nbformat": 4,
 "nbformat_minor": 5
}
