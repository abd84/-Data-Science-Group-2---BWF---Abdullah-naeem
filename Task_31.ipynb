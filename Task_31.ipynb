{
  "nbformat": 4,
  "nbformat_minor": 0,
  "metadata": {
    "colab": {
      "provenance": []
    },
    "kernelspec": {
      "name": "python3",
      "display_name": "Python 3"
    },
    "language_info": {
      "name": "python"
    }
  },
  "cells": [
    {
      "cell_type": "markdown",
      "source": [
        "Dimensionality reduction techniques can significantly enhance the performance of machine learning models by simplifying datasets, reducing computational costs, and mitigating overfitting. Let's explore some of these techniques using a high-dimensional dataset and observe their impact on a model's performance."
      ],
      "metadata": {
        "id": "4xgDb0ik4eDO"
      }
    },
    {
      "cell_type": "code",
      "execution_count": 1,
      "metadata": {
        "id": "yqxBdmYc4Hu7"
      },
      "outputs": [],
      "source": [
        "import pandas as pd\n",
        "import numpy as np\n",
        "from sklearn.model_selection import train_test_split\n",
        "from sklearn.preprocessing import StandardScaler\n",
        "from sklearn.decomposition import PCA, FastICA\n",
        "from sklearn.discriminant_analysis import LinearDiscriminantAnalysis as LDA\n",
        "from sklearn.manifold import TSNE\n",
        "from sklearn.feature_selection import SelectKBest, f_classif, RFE\n",
        "from sklearn.ensemble import RandomForestClassifier\n",
        "from sklearn.metrics import accuracy_score\n"
      ]
    },
    {
      "cell_type": "code",
      "source": [
        "from sklearn.datasets import load_iris\n",
        "data = load_iris()\n",
        "X, y = data.data, data.target\n",
        "\n",
        "# Artificially create a high-dimensional dataset\n",
        "X_high_dim = np.hstack([X, X + np.random.normal(0, 0.1, X.shape), X + np.random.normal(0, 0.2, X.shape)])\n",
        "\n",
        "# Split data into training and test sets\n",
        "X_train, X_test, y_train, y_test = train_test_split(X_high_dim, y, test_size=0.2, random_state=42)\n"
      ],
      "metadata": {
        "id": "UdaHvvIb4gsa"
      },
      "execution_count": 2,
      "outputs": []
    },
    {
      "cell_type": "code",
      "source": [
        "scaler = StandardScaler()\n",
        "X_train = scaler.fit_transform(X_train)\n",
        "X_test = scaler.transform(X_test)\n"
      ],
      "metadata": {
        "id": "m8T1JNWo4kHK"
      },
      "execution_count": 3,
      "outputs": []
    },
    {
      "cell_type": "markdown",
      "source": [
        "# Apply Dimensionality Reduction Techniques"
      ],
      "metadata": {
        "id": "664f8GvR4myy"
      }
    },
    {
      "cell_type": "code",
      "source": [
        "pca = PCA(n_components=2)\n",
        "X_train_pca = pca.fit_transform(X_train)\n",
        "X_test_pca = pca.transform(X_test)\n",
        "\n",
        "# Train and evaluate model\n",
        "clf = RandomForestClassifier(random_state=42)\n",
        "clf.fit(X_train_pca, y_train)\n",
        "y_pred_pca = clf.predict(X_test_pca)\n",
        "print(\"PCA Accuracy:\", accuracy_score(y_test, y_pred_pca))\n"
      ],
      "metadata": {
        "colab": {
          "base_uri": "https://localhost:8080/"
        },
        "id": "YcEFr2ja4nrB",
        "outputId": "a75ee151-ae66-49eb-d322-8de39ca21279"
      },
      "execution_count": 4,
      "outputs": [
        {
          "output_type": "stream",
          "name": "stdout",
          "text": [
            "PCA Accuracy: 0.9\n"
          ]
        }
      ]
    },
    {
      "cell_type": "code",
      "source": [
        "lda = LDA(n_components=2)\n",
        "X_train_lda = lda.fit_transform(X_train, y_train)\n",
        "X_test_lda = lda.transform(X_test)\n",
        "\n",
        "# Train and evaluate model\n",
        "clf.fit(X_train_lda, y_train)\n",
        "y_pred_lda = clf.predict(X_test_lda)\n",
        "print(\"LDA Accuracy:\", accuracy_score(y_test, y_pred_lda))\n"
      ],
      "metadata": {
        "colab": {
          "base_uri": "https://localhost:8080/"
        },
        "id": "TMUW4W7V4r8v",
        "outputId": "f189a9d2-9cdb-4299-d770-642ecf2bb3b3"
      },
      "execution_count": 5,
      "outputs": [
        {
          "output_type": "stream",
          "name": "stdout",
          "text": [
            "LDA Accuracy: 0.9666666666666667\n"
          ]
        }
      ]
    },
    {
      "cell_type": "code",
      "source": [
        "ica = FastICA(n_components=2, random_state=42)\n",
        "X_train_ica = ica.fit_transform(X_train)\n",
        "X_test_ica = ica.transform(X_test)\n",
        "\n",
        "# Train and evaluate model\n",
        "clf.fit(X_train_ica, y_train)\n",
        "y_pred_ica = clf.predict(X_test_ica)\n",
        "print(\"ICA Accuracy:\", accuracy_score(y_test, y_pred_ica))\n"
      ],
      "metadata": {
        "colab": {
          "base_uri": "https://localhost:8080/"
        },
        "id": "vLR88nWu5S1l",
        "outputId": "f9331b83-74b7-4a57-93bf-f5660f138fb6"
      },
      "execution_count": 7,
      "outputs": [
        {
          "output_type": "stream",
          "name": "stdout",
          "text": [
            "ICA Accuracy: 0.9\n"
          ]
        }
      ]
    },
    {
      "cell_type": "code",
      "source": [
        "select_k_best = SelectKBest(f_classif, k=10)\n",
        "X_train_kbest = select_k_best.fit_transform(X_train, y_train)\n",
        "X_test_kbest = select_k_best.transform(X_test)\n",
        "\n",
        "# Train and evaluate model\n",
        "clf.fit(X_train_kbest, y_train)\n",
        "y_pred_kbest = clf.predict(X_test_kbest)\n",
        "print(\"SelectKBest Accuracy:\", accuracy_score(y_test, y_pred_kbest))\n"
      ],
      "metadata": {
        "colab": {
          "base_uri": "https://localhost:8080/"
        },
        "id": "nHA__yse5Uv9",
        "outputId": "99d3e82c-054b-45d1-81db-f62bc66500a9"
      },
      "execution_count": 8,
      "outputs": [
        {
          "output_type": "stream",
          "name": "stdout",
          "text": [
            "SelectKBest Accuracy: 1.0\n"
          ]
        }
      ]
    },
    {
      "cell_type": "code",
      "source": [
        "rfe = RFE(estimator=RandomForestClassifier(random_state=42), n_features_to_select=10)\n",
        "X_train_rfe = rfe.fit_transform(X_train, y_train)\n",
        "X_test_rfe = rfe.transform(X_test)\n",
        "\n",
        "# Train and evaluate model\n",
        "clf.fit(X_train_rfe, y_train)\n",
        "y_pred_rfe = clf.predict(X_test_rfe)\n",
        "print(\"RFE Accuracy:\", accuracy_score(y_test, y_pred_rfe))\n"
      ],
      "metadata": {
        "colab": {
          "base_uri": "https://localhost:8080/"
        },
        "id": "vnzQBfFg5Y1p",
        "outputId": "b31ba399-ba60-407a-a201-7fc4a46404f6"
      },
      "execution_count": 9,
      "outputs": [
        {
          "output_type": "stream",
          "name": "stdout",
          "text": [
            "RFE Accuracy: 1.0\n"
          ]
        }
      ]
    },
    {
      "cell_type": "markdown",
      "source": [
        "After applying each dimensionality reduction technique, you can compare the model's performance to understand which method works best for your dataset. Here's a summary of the accuracies obtained:\n"
      ],
      "metadata": {
        "id": "PXmHf2R75lR7"
      }
    },
    {
      "cell_type": "code",
      "source": [
        "results = {\n",
        "    \"PCA\": accuracy_score(y_test, y_pred_pca),\n",
        "    \"LDA\": accuracy_score(y_test, y_pred_lda),\n",
        "    \"ICA\": accuracy_score(y_test, y_pred_ica),\n",
        "    \"SelectKBest\": accuracy_score(y_test, y_pred_kbest),\n",
        "    \"RFE\": accuracy_score(y_test, y_pred_rfe)\n",
        "}\n",
        "\n",
        "print(results)"
      ],
      "metadata": {
        "colab": {
          "base_uri": "https://localhost:8080/"
        },
        "id": "MfCSnDOX5iHE",
        "outputId": "6afd72f9-9fca-43c3-d1af-abeb4ee15340"
      },
      "execution_count": 10,
      "outputs": [
        {
          "output_type": "stream",
          "name": "stdout",
          "text": [
            "{'PCA': 0.9, 'LDA': 0.9666666666666667, 'ICA': 0.9, 'SelectKBest': 1.0, 'RFE': 1.0}\n"
          ]
        }
      ]
    }
  ]
}