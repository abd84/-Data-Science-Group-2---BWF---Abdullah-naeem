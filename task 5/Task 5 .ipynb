{
 "cells": [
  {
   "cell_type": "markdown",
   "id": "f42c166a",
   "metadata": {},
   "source": [
    "# Centered triangle "
   ]
  },
  {
   "cell_type": "code",
   "execution_count": 2,
   "id": "dc50726c",
   "metadata": {},
   "outputs": [
    {
     "name": "stdout",
     "output_type": "stream",
     "text": [
      "    *\n",
      "   ***\n",
      "  *****\n",
      " *******\n",
      "*********\n"
     ]
    }
   ],
   "source": [
    "def triangle(n):\n",
    "    for i in range(1, n + 1):\n",
    "        print(' ' * (n - i) + '*' * (2 * i - 1))\n",
    "\n",
    "\n",
    "if __name__ == \"__main__\":\n",
    "    n = 5\n",
    "    triangle(n)\n"
   ]
  },
  {
   "cell_type": "markdown",
   "id": "30a30901",
   "metadata": {},
   "source": [
    "# Left triangle "
   ]
  },
  {
   "cell_type": "code",
   "execution_count": 3,
   "id": "7c2bb127",
   "metadata": {},
   "outputs": [
    {
     "name": "stdout",
     "output_type": "stream",
     "text": [
      "*\n",
      "**\n",
      "***\n",
      "****\n",
      "*****\n"
     ]
    }
   ],
   "source": [
    "def triangle(n):\n",
    "    for i in range(1, n + 1):\n",
    "        print('*' * i)\n",
    "\n",
    "if __name__ == \"__main__\":\n",
    "    n = 5\n",
    "    triangle(n)"
   ]
  },
  {
   "cell_type": "markdown",
   "id": "04e92933",
   "metadata": {},
   "source": [
    "# Inverse triangle "
   ]
  },
  {
   "cell_type": "code",
   "execution_count": 4,
   "id": "a3422b7d",
   "metadata": {},
   "outputs": [
    {
     "name": "stdout",
     "output_type": "stream",
     "text": [
      "*********\n",
      " *******\n",
      "  *****\n",
      "   ***\n",
      "    *\n"
     ]
    }
   ],
   "source": [
    "def triangle(n):\n",
    "    for i in range(n, 0, -1):\n",
    "        print(' ' * (n - i) + '*' * (2 * i - 1))\n",
    "\n",
    "if __name__ == \"__main__\":\n",
    "    n = 5\n",
    "    triangle(n)"
   ]
  },
  {
   "cell_type": "code",
   "execution_count": 6,
   "id": "8a3e9afa",
   "metadata": {},
   "outputs": [
    {
     "name": "stdout",
     "output_type": "stream",
     "text": [
      "a\n",
      "ab\n",
      "abc\n",
      "abcd\n",
      "abcde\n"
     ]
    }
   ],
   "source": [
    "def triangle(n):\n",
    "    alphabet = 'abcde'\n",
    "    \n",
    "    for i in range(n):\n",
    "        letters = ''\n",
    "        for j in range(i + 1):\n",
    "            letters += alphabet[j % len(alphabet)]\n",
    "        print(letters)\n",
    "\n",
    "if __name__ == \"__main__\":\n",
    "    n = 5\n",
    "    triangle(n)\n"
   ]
  },
  {
   "cell_type": "code",
   "execution_count": 8,
   "id": "7926acf7",
   "metadata": {},
   "outputs": [
    {
     "name": "stdout",
     "output_type": "stream",
     "text": [
      "    1\n",
      "   12\n",
      "  123\n",
      " 1234\n",
      "12341\n"
     ]
    }
   ],
   "source": [
    "def triangle(n):\n",
    "    alphabet = '1234'\n",
    "    \n",
    "    for i in range(n):\n",
    "        spaces = ' ' * (n - i - 1)\n",
    "        letters = ''\n",
    "        for j in range(i + 1):\n",
    "            letters += alphabet[j % len(alphabet)]\n",
    "        print(spaces+letters)\n",
    "\n",
    "if __name__ == \"__main__\":\n",
    "    n = 5\n",
    "    triangle(n)\n"
   ]
  },
  {
   "cell_type": "code",
   "execution_count": null,
   "id": "70426a60",
   "metadata": {},
   "outputs": [],
   "source": []
  }
 ],
 "metadata": {
  "kernelspec": {
   "display_name": "Python 3 (ipykernel)",
   "language": "python",
   "name": "python3"
  },
  "language_info": {
   "codemirror_mode": {
    "name": "ipython",
    "version": 3
   },
   "file_extension": ".py",
   "mimetype": "text/x-python",
   "name": "python",
   "nbconvert_exporter": "python",
   "pygments_lexer": "ipython3",
   "version": "3.11.5"
  }
 },
 "nbformat": 4,
 "nbformat_minor": 5
}
