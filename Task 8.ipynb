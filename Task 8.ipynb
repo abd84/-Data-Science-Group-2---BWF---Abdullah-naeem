{
 "cells": [
  {
   "cell_type": "code",
   "execution_count": 1,
   "id": "0029c9d6",
   "metadata": {},
   "outputs": [
    {
     "name": "stdout",
     "output_type": "stream",
     "text": [
      "Product 'Product1' added successfully.\n",
      "Product 'Product2' added successfully.\n",
      "Product 'Product3' added successfully.\n",
      "Product 'Product4' added successfully.\n",
      "Stock for product ID 'ID001' updated successfully.\n",
      "Stock for product ID 'ID003' updated successfully.\n",
      "\n",
      "All Products:\n",
      "ID: ID001, Name: Product1, Category: Category1, Stock: 60\n",
      "ID: ID002, Name: Product2, Category: Category2, Stock: 30\n",
      "ID: ID003, Name: Product3, Category: Category1, Stock: 15\n",
      "ID: ID004, Name: Product4, Category: Category3, Stock: 10\n",
      "\n",
      "Products in Category: Category1\n",
      "ID: ID001, Name: Product1, Stock: 60\n",
      "ID: ID003, Name: Product3, Stock: 15\n",
      "\n",
      "Products in Category: Category2\n",
      "ID: ID002, Name: Product2, Stock: 30\n"
     ]
    }
   ],
   "source": [
    "class InventoryManagementSystem:\n",
    "    def __init__(self):\n",
    "        self.products = {}  \n",
    "        self.product_order = []  \n",
    "        self.categories = set()  \n",
    "\n",
    "    def add_product(self, product_id, name, category, stock):\n",
    "        if product_id not in self.products:\n",
    "            self.products[product_id] = {'info': (name, category), 'stock': stock}\n",
    "            self.product_order.append(product_id)\n",
    "            self.categories.add(category)\n",
    "            print(f\"Product '{name}' added successfully.\")\n",
    "        else:\n",
    "            print(f\"Product ID '{product_id}' already exists.\")\n",
    "\n",
    "    def update_stock(self, product_id, quantity):\n",
    "        if product_id in self.products:\n",
    "            self.products[product_id]['stock'] += quantity\n",
    "            print(f\"Stock for product ID '{product_id}' updated successfully.\")\n",
    "        else:\n",
    "            print(f\"Product ID '{product_id}' not found.\")\n",
    "\n",
    "    def display_products(self):\n",
    "        print(\"\\nAll Products:\")\n",
    "        for product_id in self.product_order:\n",
    "            name, category = self.products[product_id]['info']\n",
    "            stock = self.products[product_id]['stock']\n",
    "            print(f\"ID: {product_id}, Name: {name}, Category: {category}, Stock: {stock}\")\n",
    "\n",
    "    def display_by_category(self, category):\n",
    "        print(f\"\\nProducts in Category: {category}\")\n",
    "        for product_id in self.product_order:\n",
    "            name, prod_category = self.products[product_id]['info']\n",
    "            stock = self.products[product_id]['stock']\n",
    "            if prod_category == category:\n",
    "                print(f\"ID: {product_id}, Name: {name}, Stock: {stock}\")\n",
    "\n",
    "\n",
    "\n",
    "if __name__ == \"__main__\":\n",
    "    ims = InventoryManagementSystem()\n",
    "\n",
    "    \n",
    "    ims.add_product('ID001', 'Product1', 'Category1', 50)\n",
    "    ims.add_product('ID002', 'Product2', 'Category2', 30)\n",
    "    ims.add_product('ID003', 'Product3', 'Category1', 20)\n",
    "    ims.add_product('ID004', 'Product4', 'Category3', 10)\n",
    "\n",
    "    \n",
    "    ims.update_stock('ID001', 10)\n",
    "    ims.update_stock('ID003', -5)\n",
    "\n",
    "   \n",
    "    ims.display_products()\n",
    "\n",
    "    \n",
    "    ims.display_by_category('Category1')\n",
    "    ims.display_by_category('Category2')\n"
   ]
  },
  {
   "cell_type": "code",
   "execution_count": null,
   "id": "1da6923c",
   "metadata": {},
   "outputs": [],
   "source": []
  }
 ],
 "metadata": {
  "kernelspec": {
   "display_name": "Python 3 (ipykernel)",
   "language": "python",
   "name": "python3"
  },
  "language_info": {
   "codemirror_mode": {
    "name": "ipython",
    "version": 3
   },
   "file_extension": ".py",
   "mimetype": "text/x-python",
   "name": "python",
   "nbconvert_exporter": "python",
   "pygments_lexer": "ipython3",
   "version": "3.11.5"
  }
 },
 "nbformat": 4,
 "nbformat_minor": 5
}
