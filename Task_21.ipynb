{
  "nbformat": 4,
  "nbformat_minor": 0,
  "metadata": {
    "colab": {
      "provenance": []
    },
    "kernelspec": {
      "name": "python3",
      "display_name": "Python 3"
    },
    "language_info": {
      "name": "python"
    }
  },
  "cells": [
    {
      "cell_type": "markdown",
      "source": [
        "# Matrix Creation and Manipulation"
      ],
      "metadata": {
        "id": "WN1FbbKH6Z76"
      }
    },
    {
      "cell_type": "code",
      "execution_count": 2,
      "metadata": {
        "colab": {
          "base_uri": "https://localhost:8080/"
        },
        "id": "86ptT-lY6GbC",
        "outputId": "88ef76d5-b973-40a0-a508-6e60519076f3"
      },
      "outputs": [
        {
          "output_type": "stream",
          "name": "stdout",
          "text": [
            "Zero Matrix:\n",
            " [[0. 0. 0.]\n",
            " [0. 0. 0.]\n",
            " [0. 0. 0.]]\n",
            "Identity Matrix:\n",
            " [[1. 0. 0.]\n",
            " [0. 1. 0.]\n",
            " [0. 0. 1.]]\n",
            "Random Matrix:\n",
            " [[0.19130988 0.45709545 0.20905195]\n",
            " [0.48431562 0.57480901 0.63324974]\n",
            " [0.99373803 0.43505123 0.86987815]]\n"
          ]
        }
      ],
      "source": [
        "import numpy as np\n",
        "import scipy.linalg\n",
        "\n",
        "# Zero matrix\n",
        "zero_matrix = np.zeros((3, 3))\n",
        "print(\"Zero Matrix:\\n\", zero_matrix)\n",
        "\n",
        "# Identity matrix\n",
        "identity_matrix = np.eye(3)\n",
        "print(\"Identity Matrix:\\n\", identity_matrix)\n",
        "\n",
        "# Random matrix\n",
        "random_matrix = np.random.rand(3, 3)\n",
        "print(\"Random Matrix:\\n\", random_matrix)\n"
      ]
    },
    {
      "cell_type": "markdown",
      "source": [
        "# basic matrix operations"
      ],
      "metadata": {
        "id": "uW9P_rE46dFu"
      }
    },
    {
      "cell_type": "code",
      "source": [
        "A = np.array([[1, 2], [3, 4]])\n",
        "B = np.array([[5, 6], [7, 8]])\n",
        "\n",
        "# Addition\n",
        "addition = A + B\n",
        "print(\"Matrix Addition:\\n\", addition)\n",
        "\n",
        "# Subtraction\n",
        "subtraction = A - B\n",
        "print(\"Matrix Subtraction:\\n\", subtraction)\n",
        "\n",
        "# Multiplication (element-wise)\n",
        "multiplication_elementwise = A * B\n",
        "print(\"Element-wise Multiplication:\\n\", multiplication_elementwise)\n",
        "\n",
        "# Matrix Multiplication\n",
        "multiplication_matrix = np.dot(A, B)\n",
        "print(\"Matrix Multiplication:\\n\", multiplication_matrix)\n"
      ],
      "metadata": {
        "colab": {
          "base_uri": "https://localhost:8080/"
        },
        "id": "lcSoinbC6Km9",
        "outputId": "5ac1de13-e20e-4e10-af89-8a02ccb81598"
      },
      "execution_count": 2,
      "outputs": [
        {
          "output_type": "stream",
          "name": "stdout",
          "text": [
            "Matrix Addition:\n",
            " [[ 6  8]\n",
            " [10 12]]\n",
            "Matrix Subtraction:\n",
            " [[-4 -4]\n",
            " [-4 -4]]\n",
            "Element-wise Multiplication:\n",
            " [[ 5 12]\n",
            " [21 32]]\n",
            "Matrix Multiplication:\n",
            " [[19 22]\n",
            " [43 50]]\n"
          ]
        }
      ]
    },
    {
      "cell_type": "markdown",
      "source": [
        "# Transpose"
      ],
      "metadata": {
        "id": "sEADGiYc6i9Q"
      }
    },
    {
      "cell_type": "code",
      "source": [
        "A_transpose = A.T\n",
        "print(\"Transpose of A:\\n\", A_transpose)\n",
        "\n",
        "# Determinant of a matrix\n",
        "determinant_A = np.linalg.det(A)\n",
        "print(\"Determinant of A:\", determinant_A)\n",
        "\n",
        "# Inverse of a matrix\n",
        "A_inverse = np.linalg.inv(A)\n",
        "print(\"Inverse of A:\\n\", A_inverse)\n"
      ],
      "metadata": {
        "colab": {
          "base_uri": "https://localhost:8080/"
        },
        "id": "rfFzokXZ6L9L",
        "outputId": "e47f75b5-3b04-4f48-fa91-d19b85782988"
      },
      "execution_count": 3,
      "outputs": [
        {
          "output_type": "stream",
          "name": "stdout",
          "text": [
            "Transpose of A:\n",
            " [[1 3]\n",
            " [2 4]]\n",
            "Determinant of A: -2.0000000000000004\n",
            "Inverse of A:\n",
            " [[-2.   1. ]\n",
            " [ 1.5 -0.5]]\n"
          ]
        }
      ]
    },
    {
      "cell_type": "markdown",
      "source": [
        "# Linear eqs"
      ],
      "metadata": {
        "id": "B2LMXrf56kbh"
      }
    },
    {
      "cell_type": "code",
      "source": [
        "# Ax = B\n",
        "A = np.array([[2, 3], [1, -2]])\n",
        "B = np.array([8, -4])\n",
        "x = np.linalg.solve(A, B)\n",
        "print(\"Solution x:\", x)\n"
      ],
      "metadata": {
        "colab": {
          "base_uri": "https://localhost:8080/"
        },
        "id": "jiNYgfXt6Nrm",
        "outputId": "776b534a-89da-41ab-8422-7ab3804d5fd5"
      },
      "execution_count": 4,
      "outputs": [
        {
          "output_type": "stream",
          "name": "stdout",
          "text": [
            "Solution x: [0.57142857 2.28571429]\n"
          ]
        }
      ]
    },
    {
      "cell_type": "markdown",
      "source": [
        "# LU decomposition, QR decomposition"
      ],
      "metadata": {
        "id": "LE3mQ2hm6maV"
      }
    },
    {
      "cell_type": "code",
      "source": [
        "# LU Decomposition\n",
        "P, L, U = scipy.linalg.lu(A)\n",
        "print(\"P:\\n\", P)\n",
        "print(\"L:\\n\", L)\n",
        "print(\"U:\\n\", U)\n",
        "\n",
        "# QR Decomposition\n",
        "Q, R = np.linalg.qr(A)\n",
        "print(\"Q:\\n\", Q)\n",
        "print(\"R:\\n\", R)\n"
      ],
      "metadata": {
        "colab": {
          "base_uri": "https://localhost:8080/"
        },
        "id": "v8GbDIIB6Qjs",
        "outputId": "7e67c5b2-a761-418c-dec3-f7f79eb6e2cb"
      },
      "execution_count": 9,
      "outputs": [
        {
          "output_type": "stream",
          "name": "stdout",
          "text": [
            "P:\n",
            " [[1. 0.]\n",
            " [0. 1.]]\n",
            "L:\n",
            " [[1.  0. ]\n",
            " [0.5 1. ]]\n",
            "U:\n",
            " [[ 2.   3. ]\n",
            " [ 0.  -3.5]]\n",
            "Q:\n",
            " [[-0.89442719 -0.4472136 ]\n",
            " [-0.4472136   0.89442719]]\n",
            "R:\n",
            " [[-2.23606798 -1.78885438]\n",
            " [ 0.         -3.13049517]]\n"
          ]
        }
      ]
    },
    {
      "cell_type": "markdown",
      "source": [
        "# Eigen Values"
      ],
      "metadata": {
        "id": "hs6QAIvF6pv3"
      }
    },
    {
      "cell_type": "code",
      "source": [
        "# Eigenvalues and Eigenvectors\n",
        "eigenvalues, eigenvectors = np.linalg.eig(A)\n",
        "print(\"Eigenvalues:\", eigenvalues)\n",
        "print(\"Eigenvectors:\\n\", eigenvectors)\n",
        "\n",
        "# Verify by reconstructing the original matrix\n",
        "reconstructed_matrix = np.dot(np.dot(eigenvectors, np.diag(eigenvalues)), np.linalg.inv(eigenvectors))\n",
        "print(\"Reconstructed Matrix:\\n\", reconstructed_matrix)\n"
      ],
      "metadata": {
        "colab": {
          "base_uri": "https://localhost:8080/"
        },
        "id": "eII8uz_86R1t",
        "outputId": "03fb1e45-36ca-4216-a0cc-73093f88e662"
      },
      "execution_count": 6,
      "outputs": [
        {
          "output_type": "stream",
          "name": "stdout",
          "text": [
            "Eigenvalues: [ 2.64575131 -2.64575131]\n",
            "Eigenvectors:\n",
            " [[ 0.97760877 -0.54247681]\n",
            " [ 0.21043072  0.84007078]]\n",
            "Reconstructed Matrix:\n",
            " [[ 2.  3.]\n",
            " [ 1. -2.]]\n"
          ]
        }
      ]
    },
    {
      "cell_type": "markdown",
      "source": [
        "# Vector Operations"
      ],
      "metadata": {
        "id": "PwxcKVgu6ra5"
      }
    },
    {
      "cell_type": "code",
      "source": [
        "v1 = np.array([1, 2, 3])\n",
        "v2 = np.array([4, 5, 6])\n",
        "\n",
        "# Addition\n",
        "vector_addition = v1 + v2\n",
        "print(\"Vector Addition:\", vector_addition)\n",
        "\n",
        "# Dot Product\n",
        "dot_product = np.dot(v1, v2)\n",
        "print(\"Dot Product:\", dot_product)\n",
        "\n",
        "# Cross Product\n",
        "cross_product = np.cross(v1, v2)\n",
        "print(\"Cross Product:\", cross_product)\n",
        "\n",
        "# Normalize a vector\n",
        "norm_v1 = np.linalg.norm(v1)\n",
        "normalized_v1 = v1 / norm_v1\n",
        "print(\"Normalized v1:\", normalized_v1)\n"
      ],
      "metadata": {
        "colab": {
          "base_uri": "https://localhost:8080/"
        },
        "id": "d-GRDZYn6S1v",
        "outputId": "35422bca-0315-48e7-dd32-6683d9fd756a"
      },
      "execution_count": 7,
      "outputs": [
        {
          "output_type": "stream",
          "name": "stdout",
          "text": [
            "Vector Addition: [5 7 9]\n",
            "Dot Product: 32\n",
            "Cross Product: [-3  6 -3]\n",
            "Normalized v1: [0.26726124 0.53452248 0.80178373]\n"
          ]
        }
      ]
    },
    {
      "cell_type": "markdown",
      "source": [
        "# Principal Component Analysis (PCA)\n",
        "\n",
        "is a method used to reduce the dimensionality of a dataset by transforming it into a new set of variables, the principal components, which are orthogonal and capture the maximum variance in the data"
      ],
      "metadata": {
        "id": "25tpny-tDUWn"
      }
    },
    {
      "cell_type": "code",
      "source": [
        "def standardize(X):\n",
        "    return (X - np.mean(X, axis=0)) / np.std(X, axis=0)\n",
        "\n",
        "def pca_svd(X, n_components):\n",
        "    # Standardize the dataset\n",
        "    X_std = standardize(X)\n",
        "\n",
        "    # Compute the covariance matrix\n",
        "    covariance_matrix = np.cov(X_std.T)\n",
        "\n",
        "    # Perform SVD\n",
        "    U, S, Vt = np.linalg.svd(covariance_matrix)\n",
        "\n",
        "    # Select the top n_components\n",
        "    principal_components = Vt[:n_components]\n",
        "\n",
        "    # Transform the original dataset\n",
        "    X_pca = X_std.dot(principal_components.T)\n",
        "\n",
        "    return X_pca, principal_components\n",
        "\n",
        "X = np.array([[2.5, 2.4], [0.5, 0.7], [2.2, 2.9], [1.9, 2.2], [3.1, 3.0], [2.3, 2.7], [2, 1.6], [1, 1.1], [1.5, 1.6], [1.1, 0.9]])\n",
        "n_components = 1\n",
        "X_pca, principal_components = pca_svd(X, n_components)\n",
        "print(\"Transformed dataset:\\n\", X_pca)\n",
        "print(\"Principal components:\\n\", principal_components)\n"
      ],
      "metadata": {
        "colab": {
          "base_uri": "https://localhost:8080/"
        },
        "id": "cpEhMeKw6Yzh",
        "outputId": "bc6f2699-7906-45b0-f968-192f80d52e84"
      },
      "execution_count": 3,
      "outputs": [
        {
          "output_type": "stream",
          "name": "stdout",
          "text": [
            "Transformed dataset:\n",
            " [[-1.08643242]\n",
            " [ 2.3089372 ]\n",
            " [-1.24191895]\n",
            " [-0.34078247]\n",
            " [-2.18429003]\n",
            " [-1.16073946]\n",
            " [ 0.09260467]\n",
            " [ 1.48210777]\n",
            " [ 0.56722643]\n",
            " [ 1.56328726]]\n",
            "Principal components:\n",
            " [[-0.70710678 -0.70710678]]\n"
          ]
        }
      ]
    },
    {
      "cell_type": "markdown",
      "source": [
        "# Numerical Differentiation\n",
        "\n",
        "**Numerical differentiation is the process of estimating the derivative of a function using numerical methods.**\n",
        "\n",
        "Forward, Backward, and Central Difference Methods:\n",
        "Forward Difference:\n",
        "𝑓\n",
        "′\n",
        "(\n",
        "𝑥\n",
        ")\n",
        "≈\n",
        "𝑓\n",
        "(\n",
        "𝑥\n",
        "+\n",
        "ℎ\n",
        ")\n",
        "−\n",
        "𝑓\n",
        "(\n",
        "𝑥\n",
        ")\n",
        "ℎ\n",
        "f\n",
        "′\n",
        " (x)≈\n",
        "h\n",
        "f(x+h)−f(x)\n",
        "​\n",
        "\n",
        "Backward Difference:\n",
        "𝑓\n",
        "′\n",
        "(\n",
        "𝑥\n",
        ")\n",
        "≈\n",
        "𝑓\n",
        "(\n",
        "𝑥\n",
        ")\n",
        "−\n",
        "𝑓\n",
        "(\n",
        "𝑥\n",
        "−\n",
        "ℎ\n",
        ")\n",
        "ℎ\n",
        "f\n",
        "′\n",
        " (x)≈\n",
        "h\n",
        "f(x)−f(x−h)\n",
        "​\n",
        "\n",
        "Central Difference:\n",
        "𝑓\n",
        "′\n",
        "(\n",
        "𝑥\n",
        ")\n",
        "≈\n",
        "𝑓\n",
        "(\n",
        "𝑥\n",
        "+\n",
        "ℎ\n",
        ")\n",
        "−\n",
        "𝑓\n",
        "(\n",
        "𝑥\n",
        "−\n",
        "ℎ\n",
        ")\n",
        "2\n",
        "ℎ\n",
        "f\n",
        "′\n",
        " (x)≈\n",
        "2h\n",
        "f(x+h)−f(x−h)\n",
        "​\n"
      ],
      "metadata": {
        "id": "PqXM9Pw6DxE4"
      }
    },
    {
      "cell_type": "code",
      "source": [
        "def forward_difference(f, x, h=1e-5):\n",
        "    return (f(x + h) - f(x)) / h\n",
        "\n",
        "def backward_difference(f, x, h=1e-5):\n",
        "    return (f(x) - f(x - h)) / h\n",
        "\n",
        "def central_difference(f, x, h=1e-5):\n",
        "    return (f(x + h) - f(x - h)) / (2 * h)\n",
        "\n",
        "\n",
        "f = lambda x: x**2\n",
        "x = 2\n",
        "print(\"Forward difference:\", forward_difference(f, x))\n",
        "print(\"Backward difference:\", backward_difference(f, x))\n",
        "print(\"Central difference:\", central_difference(f, x))\n"
      ],
      "metadata": {
        "colab": {
          "base_uri": "https://localhost:8080/"
        },
        "id": "C5x7nUeIDTRW",
        "outputId": "09dba944-71f1-489b-e382-e9fc7eb4da4f"
      },
      "execution_count": 4,
      "outputs": [
        {
          "output_type": "stream",
          "name": "stdout",
          "text": [
            "Forward difference: 4.000010000027032\n",
            "Backward difference: 3.999990000025377\n",
            "Central difference: 4.000000000026205\n"
          ]
        }
      ]
    },
    {
      "cell_type": "markdown",
      "source": [
        "# Numerical Integration\n",
        "\n",
        "**Numerical integration approximates the integral of a function over a specified interval. This is useful when the integral is difficult or impossible to calculate analytically.**"
      ],
      "metadata": {
        "id": "115fvunMEGOi"
      }
    },
    {
      "cell_type": "code",
      "source": [
        "def trapezoidal_rule(f, a, b, n=1000):\n",
        "    x = np.linspace(a, b, n)\n",
        "    y = f(x)\n",
        "    h = (b - a) / (n - 1)\n",
        "    return (h / 2) * np.sum(y[:-1] + y[1:])\n",
        "    # Approximates the area under the curve by dividing it into trapezoids.\n",
        "\n",
        "def simpsons_rule(f, a, b, n=1000):\n",
        "    if n % 2 == 1:\n",
        "        n += 1\n",
        "    x = np.linspace(a, b, n)\n",
        "    y = f(x)\n",
        "    h = (b - a) / (n - 1)\n",
        "    return (h / 3) * (y[0] + 4 * np.sum(y[1:-1:2]) + 2 * np.sum(y[2:-2:2]) + y[-1])\n",
        "    # Approximates the area under the curve using parabolas.\n",
        "\n",
        "\n",
        "f = lambda x: x**2\n",
        "a, b = 0, 1\n",
        "print(\"Trapezoidal rule:\", trapezoidal_rule(f, a, b))\n",
        "print(\"Simpson's rule:\", simpsons_rule(f, a, b))\n"
      ],
      "metadata": {
        "colab": {
          "base_uri": "https://localhost:8080/"
        },
        "id": "XamzMPzHESH_",
        "outputId": "03008280-5e3e-4d3d-8df8-f0bb5f2e6858"
      },
      "execution_count": 5,
      "outputs": [
        {
          "output_type": "stream",
          "name": "stdout",
          "text": [
            "Trapezoidal rule: 0.33333350033383397\n",
            "Simpson's rule: 0.33233400166866833\n"
          ]
        }
      ]
    },
    {
      "cell_type": "markdown",
      "source": [
        "# Partial derivatives\n",
        "\n",
        "**Partial derivatives measure the rate at which a multivariable function changes as one of the variables changes, holding the others constant.**"
      ],
      "metadata": {
        "id": "0jU29agIEc51"
      }
    },
    {
      "cell_type": "code",
      "source": [
        "def partial_derivative(f, x, y, var='x', h=1e-5):\n",
        "    if var == 'x':\n",
        "        return (f(x + h, y) - f(x - h, y)) / (2 * h)\n",
        "    elif var == 'y':\n",
        "        return (f(x, y + h) - f(x, y - h)) / (2 * h)\n",
        "\n",
        "\n",
        "f = lambda x, y: x**2 + y**2\n",
        "x, y = 1, 2\n",
        "print(\"Partial derivative w.r.t x:\", partial_derivative(f, x, y, var='x'))\n",
        "print(\"Partial derivative w.r.t y:\", partial_derivative(f, x, y, var='y'))\n"
      ],
      "metadata": {
        "colab": {
          "base_uri": "https://localhost:8080/"
        },
        "id": "AarP8RJ4EaHM",
        "outputId": "babfced0-cf56-475b-893a-935d148aa08a"
      },
      "execution_count": 6,
      "outputs": [
        {
          "output_type": "stream",
          "name": "stdout",
          "text": [
            "Partial derivative w.r.t x: 2.0000000000131024\n",
            "Partial derivative w.r.t y: 4.000000000026205\n"
          ]
        }
      ]
    },
    {
      "cell_type": "markdown",
      "source": [
        "# Optimization\n",
        "**Optimization involves finding the maximum or minimum of a function subject to constraints.**\n",
        "\n"
      ],
      "metadata": {
        "id": "Tfss6t7aEfpm"
      }
    },
    {
      "cell_type": "code",
      "source": [
        "from scipy.optimize import minimize\n",
        "\n",
        "def objective_function(x):\n",
        "    return x[0]**2 + x[1]**2\n",
        "\n",
        "def constraint1(x):\n",
        "    return x[0] + x[1] - 1  # x0 + x1 = 1\n",
        "\n",
        "# Define constraints\n",
        "cons = {'type': 'eq', 'fun': constraint1}\n",
        "\n",
        "# Initial guess\n",
        "x0 = [0.5, 0.5]\n",
        "\n",
        "# Solve optimization problem\n",
        "result = minimize(objective_function, x0, constraints=cons)\n",
        "\n",
        "print(\"Optimal solution:\", result.x)\n"
      ],
      "metadata": {
        "colab": {
          "base_uri": "https://localhost:8080/"
        },
        "id": "gEhzHmJVEb-e",
        "outputId": "e2a8990a-f94e-4c89-b95c-7c427f49a9a5"
      },
      "execution_count": 7,
      "outputs": [
        {
          "output_type": "stream",
          "name": "stdout",
          "text": [
            "Optimal solution: [0.5 0.5]\n"
          ]
        }
      ]
    }
  ]
}